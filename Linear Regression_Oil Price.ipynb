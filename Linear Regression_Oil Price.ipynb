{
 "cells": [
  {
   "cell_type": "markdown",
   "id": "fa9722e7-3cd2-4d50-916c-0b50564fdf3a",
   "metadata": {},
   "source": [
    "## Basic Linear Regression Model"
   ]
  },
  {
   "cell_type": "markdown",
   "id": "ca1cd436-2161-48be-b235-f4f03f65f25b",
   "metadata": {},
   "source": [
    "##### The purpose is to model the relationship between two financial assetes, the price of a single share of Exxon Mobile stock and the price of a barrel of oil. \n",
    "##### Question: Does the price of oil (independent variable) do a good job at predicting the a share Exxon Mobile stock (dependent variable)?"
   ]
  },
  {
   "cell_type": "code",
   "execution_count": 319,
   "id": "dcaf6b71-7fb7-490c-a14f-52a28c933c9f",
   "metadata": {},
   "outputs": [],
   "source": [
    "# import libraries\n",
    "import pandas as pd\n",
    "import matplotlib.pyplot as plt\n",
    "import numpy as np\n",
    "import statsmodels.api as sm\n",
    "import math \n",
    "\n",
    "from sklearn.model_selection import train_test_split\n",
    "from sklearn.linear_model import LinearRegression\n",
    "from sklearn.metrics import mean_squared_error, r2_score, mean_absolute_error\n",
    "\n",
    "from scipy import stats\n",
    "from scipy.stats import kurtosis, skew\n",
    "\n",
    "%matplotlib inline"
   ]
  },
  {
   "cell_type": "code",
   "execution_count": 320,
   "id": "fc0fde31-0f7a-4dac-951b-8539c3ca4e5a",
   "metadata": {},
   "outputs": [
    {
     "data": {
      "text/html": [
       "<div>\n",
       "<style scoped>\n",
       "    .dataframe tbody tr th:only-of-type {\n",
       "        vertical-align: middle;\n",
       "    }\n",
       "\n",
       "    .dataframe tbody tr th {\n",
       "        vertical-align: top;\n",
       "    }\n",
       "\n",
       "    .dataframe thead th {\n",
       "        text-align: right;\n",
       "    }\n",
       "</style>\n",
       "<table border=\"1\" class=\"dataframe\">\n",
       "  <thead>\n",
       "    <tr style=\"text-align: right;\">\n",
       "      <th></th>\n",
       "      <th>date</th>\n",
       "      <th>exon_price</th>\n",
       "      <th>oil_price</th>\n",
       "    </tr>\n",
       "  </thead>\n",
       "  <tbody>\n",
       "    <tr>\n",
       "      <th>1</th>\n",
       "      <td>28/03/2014</td>\n",
       "      <td>97.70</td>\n",
       "      <td>106.64</td>\n",
       "    </tr>\n",
       "    <tr>\n",
       "      <th>2</th>\n",
       "      <td>31/03/2014</td>\n",
       "      <td>97.68</td>\n",
       "      <td>105.95</td>\n",
       "    </tr>\n",
       "    <tr>\n",
       "      <th>3</th>\n",
       "      <td>1/04/2014</td>\n",
       "      <td>97.73</td>\n",
       "      <td>105.70</td>\n",
       "    </tr>\n",
       "    <tr>\n",
       "      <th>4</th>\n",
       "      <td>2/04/2014</td>\n",
       "      <td>97.95</td>\n",
       "      <td>103.37</td>\n",
       "    </tr>\n",
       "    <tr>\n",
       "      <th>5</th>\n",
       "      <td>3/04/2014</td>\n",
       "      <td>97.93</td>\n",
       "      <td>104.88</td>\n",
       "    </tr>\n",
       "  </tbody>\n",
       "</table>\n",
       "</div>"
      ],
      "text/plain": [
       "         date  exon_price  oil_price\n",
       "1  28/03/2014       97.70     106.64\n",
       "2  31/03/2014       97.68     105.95\n",
       "3   1/04/2014       97.73     105.70\n",
       "4   2/04/2014       97.95     103.37\n",
       "5   3/04/2014       97.93     104.88"
      ]
     },
     "execution_count": 320,
     "metadata": {},
     "output_type": "execute_result"
    }
   ],
   "source": [
    "# loading the data set.\n",
    "price_data = pd.read_csv(\"oil_exxon.csv\", index_col = 0)\n",
    "\n",
    "price_data.head()"
   ]
  },
  {
   "cell_type": "code",
   "execution_count": 325,
   "id": "1a601b57-79a0-42d3-bf20-86fe1a0dac83",
   "metadata": {},
   "outputs": [
    {
     "name": "stderr",
     "output_type": "stream",
     "text": [
      "/tmp/ipykernel_135/2368485473.py:2: UserWarning: Parsing dates in %d/%m/%Y format when dayfirst=False (the default) was specified. Pass `dayfirst=True` or specify a format to silence this warning.\n",
      "  price_data.index = pd.to_datetime(price_data['date'])\n"
     ]
    },
    {
     "data": {
      "text/html": [
       "<div>\n",
       "<style scoped>\n",
       "    .dataframe tbody tr th:only-of-type {\n",
       "        vertical-align: middle;\n",
       "    }\n",
       "\n",
       "    .dataframe tbody tr th {\n",
       "        vertical-align: top;\n",
       "    }\n",
       "\n",
       "    .dataframe thead th {\n",
       "        text-align: right;\n",
       "    }\n",
       "</style>\n",
       "<table border=\"1\" class=\"dataframe\">\n",
       "  <thead>\n",
       "    <tr style=\"text-align: right;\">\n",
       "      <th></th>\n",
       "      <th>date</th>\n",
       "      <th>exon_price</th>\n",
       "      <th>oil_price</th>\n",
       "    </tr>\n",
       "    <tr>\n",
       "      <th>date</th>\n",
       "      <th></th>\n",
       "      <th></th>\n",
       "      <th></th>\n",
       "    </tr>\n",
       "  </thead>\n",
       "  <tbody>\n",
       "    <tr>\n",
       "      <th>2014-03-28</th>\n",
       "      <td>28/03/2014</td>\n",
       "      <td>97.70</td>\n",
       "      <td>106.64</td>\n",
       "    </tr>\n",
       "    <tr>\n",
       "      <th>2014-03-31</th>\n",
       "      <td>31/03/2014</td>\n",
       "      <td>97.68</td>\n",
       "      <td>105.95</td>\n",
       "    </tr>\n",
       "    <tr>\n",
       "      <th>2014-04-01</th>\n",
       "      <td>1/04/2014</td>\n",
       "      <td>97.73</td>\n",
       "      <td>105.70</td>\n",
       "    </tr>\n",
       "    <tr>\n",
       "      <th>2014-04-02</th>\n",
       "      <td>2/04/2014</td>\n",
       "      <td>97.95</td>\n",
       "      <td>103.37</td>\n",
       "    </tr>\n",
       "    <tr>\n",
       "      <th>2014-04-03</th>\n",
       "      <td>3/04/2014</td>\n",
       "      <td>97.93</td>\n",
       "      <td>104.88</td>\n",
       "    </tr>\n",
       "  </tbody>\n",
       "</table>\n",
       "</div>"
      ],
      "text/plain": [
       "                  date  exon_price  oil_price\n",
       "date                                         \n",
       "2014-03-28  28/03/2014       97.70     106.64\n",
       "2014-03-31  31/03/2014       97.68     105.95\n",
       "2014-04-01   1/04/2014       97.73     105.70\n",
       "2014-04-02   2/04/2014       97.95     103.37\n",
       "2014-04-03   3/04/2014       97.93     104.88"
      ]
     },
     "execution_count": 325,
     "metadata": {},
     "output_type": "execute_result"
    }
   ],
   "source": [
    "# Change the data so that date is the index.\n",
    "price_data.index = pd.to_datetime(price_data['date'])\n",
    "price_data.head()"
   ]
  },
  {
   "cell_type": "code",
   "execution_count": 327,
   "id": "21cc6f0f-c241-448b-b5d9-d1cce1ca774b",
   "metadata": {},
   "outputs": [
    {
     "data": {
      "text/html": [
       "<div>\n",
       "<style scoped>\n",
       "    .dataframe tbody tr th:only-of-type {\n",
       "        vertical-align: middle;\n",
       "    }\n",
       "\n",
       "    .dataframe tbody tr th {\n",
       "        vertical-align: top;\n",
       "    }\n",
       "\n",
       "    .dataframe thead th {\n",
       "        text-align: right;\n",
       "    }\n",
       "</style>\n",
       "<table border=\"1\" class=\"dataframe\">\n",
       "  <thead>\n",
       "    <tr style=\"text-align: right;\">\n",
       "      <th></th>\n",
       "      <th>exon_price</th>\n",
       "      <th>oil_price</th>\n",
       "    </tr>\n",
       "    <tr>\n",
       "      <th>date</th>\n",
       "      <th></th>\n",
       "      <th></th>\n",
       "    </tr>\n",
       "  </thead>\n",
       "  <tbody>\n",
       "    <tr>\n",
       "      <th>2014-03-28</th>\n",
       "      <td>97.70</td>\n",
       "      <td>106.64</td>\n",
       "    </tr>\n",
       "    <tr>\n",
       "      <th>2014-03-31</th>\n",
       "      <td>97.68</td>\n",
       "      <td>105.95</td>\n",
       "    </tr>\n",
       "    <tr>\n",
       "      <th>2014-04-01</th>\n",
       "      <td>97.73</td>\n",
       "      <td>105.70</td>\n",
       "    </tr>\n",
       "    <tr>\n",
       "      <th>2014-04-02</th>\n",
       "      <td>97.95</td>\n",
       "      <td>103.37</td>\n",
       "    </tr>\n",
       "    <tr>\n",
       "      <th>2014-04-03</th>\n",
       "      <td>97.93</td>\n",
       "      <td>104.88</td>\n",
       "    </tr>\n",
       "  </tbody>\n",
       "</table>\n",
       "</div>"
      ],
      "text/plain": [
       "            exon_price  oil_price\n",
       "date                             \n",
       "2014-03-28       97.70     106.64\n",
       "2014-03-31       97.68     105.95\n",
       "2014-04-01       97.73     105.70\n",
       "2014-04-02       97.95     103.37\n",
       "2014-04-03       97.93     104.88"
      ]
     },
     "execution_count": 327,
     "metadata": {},
     "output_type": "execute_result"
    }
   ],
   "source": [
    "#drop the old date column. \n",
    "price_data = price_data.drop(['date'], axis = 1)\n",
    "price_data.head()"
   ]
  },
  {
   "cell_type": "code",
   "execution_count": 329,
   "id": "21e2c23b-17cc-4523-987d-afb91341eb76",
   "metadata": {},
   "outputs": [
    {
     "data": {
      "text/plain": [
       "exon_price    float64\n",
       "oil_price     float64\n",
       "dtype: object"
      ]
     },
     "execution_count": 329,
     "metadata": {},
     "output_type": "execute_result"
    }
   ],
   "source": [
    "# check the data types\n",
    "price_data.dtypes"
   ]
  },
  {
   "cell_type": "code",
   "execution_count": 331,
   "id": "c2c325c5-e56c-4ca5-98fc-a41b98b7b985",
   "metadata": {},
   "outputs": [
    {
     "data": {
      "text/html": [
       "<div>\n",
       "<style scoped>\n",
       "    .dataframe tbody tr th:only-of-type {\n",
       "        vertical-align: middle;\n",
       "    }\n",
       "\n",
       "    .dataframe tbody tr th {\n",
       "        vertical-align: top;\n",
       "    }\n",
       "\n",
       "    .dataframe thead th {\n",
       "        text-align: right;\n",
       "    }\n",
       "</style>\n",
       "<table border=\"1\" class=\"dataframe\">\n",
       "  <thead>\n",
       "    <tr style=\"text-align: right;\">\n",
       "      <th></th>\n",
       "      <th>exxon_price</th>\n",
       "      <th>oil_price</th>\n",
       "    </tr>\n",
       "    <tr>\n",
       "      <th>date</th>\n",
       "      <th></th>\n",
       "      <th></th>\n",
       "    </tr>\n",
       "  </thead>\n",
       "  <tbody>\n",
       "    <tr>\n",
       "      <th>2014-03-28</th>\n",
       "      <td>97.70</td>\n",
       "      <td>106.64</td>\n",
       "    </tr>\n",
       "    <tr>\n",
       "      <th>2014-03-31</th>\n",
       "      <td>97.68</td>\n",
       "      <td>105.95</td>\n",
       "    </tr>\n",
       "  </tbody>\n",
       "</table>\n",
       "</div>"
      ],
      "text/plain": [
       "            exxon_price  oil_price\n",
       "date                              \n",
       "2014-03-28        97.70     106.64\n",
       "2014-03-31        97.68     105.95"
      ]
     },
     "execution_count": 331,
     "metadata": {},
     "output_type": "execute_result"
    }
   ],
   "source": [
    "# clean the data- rename columns.\n",
    "new_column_names ={'exon_price':'exxon_price'}\n",
    "\n",
    "#rename the column.\n",
    "price_data = price_data.rename(columns = new_column_names)\n",
    "price_data.head(2)"
   ]
  },
  {
   "cell_type": "code",
   "execution_count": 332,
   "id": "b490b3ea-034b-4aa6-80e1-0a6f045d2591",
   "metadata": {},
   "outputs": [
    {
     "data": {
      "text/plain": [
       "exxon_price    False\n",
       "oil_price       True\n",
       "dtype: bool"
      ]
     },
     "execution_count": 332,
     "metadata": {},
     "output_type": "execute_result"
    }
   ],
   "source": [
    "# Handle missing values in csv file.\n",
    "price_data.isna().any()\n"
   ]
  },
  {
   "cell_type": "code",
   "execution_count": 334,
   "id": "58399aa0-ddeb-4b0c-a8bf-7ce4dc5b3949",
   "metadata": {},
   "outputs": [
    {
     "data": {
      "text/plain": [
       "exxon_price    False\n",
       "oil_price      False\n",
       "dtype: bool"
      ]
     },
     "metadata": {},
     "output_type": "display_data"
    }
   ],
   "source": [
    "## delete missing values for this project because we can't have NaN in oil price.\n",
    "price_data = price_data.dropna()\n",
    "display(price_data.isna().any())"
   ]
  },
  {
   "cell_type": "markdown",
   "id": "b4fe7038-e0a0-4614-9cd1-d69c60cb3484",
   "metadata": {},
   "source": [
    "### Building a Scatterplot"
   ]
  },
  {
   "cell_type": "code",
   "execution_count": 338,
   "id": "8c4ddd53-1f31-48ab-b15b-6417ab838774",
   "metadata": {},
   "outputs": [],
   "source": [
    "# define the x and y axis.\n",
    "x = price_data['exxon_price']\n",
    "y = price_data['oil_price']\n"
   ]
  },
  {
   "cell_type": "code",
   "execution_count": 339,
   "id": "c4b8e394-b15f-4862-a557-cb112cb3760d",
   "metadata": {},
   "outputs": [
    {
     "data": {
      "image/png": "[encoded data removed]",
      "text/plain": [
       "<Figure size 640x480 with 1 Axes>"
      ]
     },
     "metadata": {},
     "output_type": "display_data"
    }
   ],
   "source": [
    "# create the scatterplot.\n",
    "\n",
    "plt.plot(x,y,'o', color = 'cadetblue', label = 'Daily Price')\n",
    "\n",
    "# formatting\n",
    "plt.title('Exxon Stock ($) vs. Oil')\n",
    "plt.xlabel('Exxon Mobile')\n",
    "plt.ylabel('Oil')\n",
    "plt.legend()\n",
    "\n",
    "plt.show()"
   ]
  },
  {
   "cell_type": "code",
   "execution_count": 341,
   "id": "f5779351-2b35-4803-ba20-d7a7db4276a9",
   "metadata": {},
   "outputs": [],
   "source": [
    "### The plot shows, that there is a relationship in the positive direction between the Exxon Stock Price and Oil Price. "
   ]
  },
  {
   "cell_type": "markdown",
   "id": "6a22bc5f-a91d-480a-a5e5-0fcf14640f5b",
   "metadata": {},
   "source": [
    "### Measuring the Correlation"
   ]
  },
  {
   "cell_type": "code",
   "execution_count": 344,
   "id": "a35d541f-8e1d-4ec2-8f82-042898a246e2",
   "metadata": {},
   "outputs": [
    {
     "data": {
      "text/html": [
       "<div>\n",
       "<style scoped>\n",
       "    .dataframe tbody tr th:only-of-type {\n",
       "        vertical-align: middle;\n",
       "    }\n",
       "\n",
       "    .dataframe tbody tr th {\n",
       "        vertical-align: top;\n",
       "    }\n",
       "\n",
       "    .dataframe thead th {\n",
       "        text-align: right;\n",
       "    }\n",
       "</style>\n",
       "<table border=\"1\" class=\"dataframe\">\n",
       "  <thead>\n",
       "    <tr style=\"text-align: right;\">\n",
       "      <th></th>\n",
       "      <th>exxon_price</th>\n",
       "      <th>oil_price</th>\n",
       "    </tr>\n",
       "  </thead>\n",
       "  <tbody>\n",
       "    <tr>\n",
       "      <th>exxon_price</th>\n",
       "      <td>1.00000</td>\n",
       "      <td>0.60132</td>\n",
       "    </tr>\n",
       "    <tr>\n",
       "      <th>oil_price</th>\n",
       "      <td>0.60132</td>\n",
       "      <td>1.00000</td>\n",
       "    </tr>\n",
       "  </tbody>\n",
       "</table>\n",
       "</div>"
      ],
      "text/plain": [
       "             exxon_price  oil_price\n",
       "exxon_price      1.00000    0.60132\n",
       "oil_price        0.60132    1.00000"
      ]
     },
     "execution_count": 344,
     "metadata": {},
     "output_type": "execute_result"
    }
   ],
   "source": [
    "price_data.corr()"
   ]
  },
  {
   "cell_type": "code",
   "execution_count": 346,
   "id": "60a9ac08-da61-4aa8-9ab2-7e94c59102b7",
   "metadata": {},
   "outputs": [],
   "source": [
    "### There is a somewhat strong relationship between the two variables."
   ]
  },
  {
   "cell_type": "markdown",
   "id": "67f30d3a-5f1d-4ca9-833d-fcc2f577fc33",
   "metadata": {},
   "source": [
    "### What are the key metrics of the data?"
   ]
  },
  {
   "cell_type": "code",
   "execution_count": 350,
   "id": "e35e30d5-8a99-41d7-9349-115d09255744",
   "metadata": {},
   "outputs": [
    {
     "data": {
      "text/html": [
       "<div>\n",
       "<style scoped>\n",
       "    .dataframe tbody tr th:only-of-type {\n",
       "        vertical-align: middle;\n",
       "    }\n",
       "\n",
       "    .dataframe tbody tr th {\n",
       "        vertical-align: top;\n",
       "    }\n",
       "\n",
       "    .dataframe thead th {\n",
       "        text-align: right;\n",
       "    }\n",
       "</style>\n",
       "<table border=\"1\" class=\"dataframe\">\n",
       "  <thead>\n",
       "    <tr style=\"text-align: right;\">\n",
       "      <th></th>\n",
       "      <th>exxon_price</th>\n",
       "      <th>oil_price</th>\n",
       "    </tr>\n",
       "  </thead>\n",
       "  <tbody>\n",
       "    <tr>\n",
       "      <th>count</th>\n",
       "      <td>1248.000000</td>\n",
       "      <td>1248.000000</td>\n",
       "    </tr>\n",
       "    <tr>\n",
       "      <th>mean</th>\n",
       "      <td>84.802796</td>\n",
       "      <td>61.935000</td>\n",
       "    </tr>\n",
       "    <tr>\n",
       "      <th>std</th>\n",
       "      <td>7.424687</td>\n",
       "      <td>19.288424</td>\n",
       "    </tr>\n",
       "    <tr>\n",
       "      <th>min</th>\n",
       "      <td>68.120000</td>\n",
       "      <td>26.010000</td>\n",
       "    </tr>\n",
       "    <tr>\n",
       "      <th>25%</th>\n",
       "      <td>80.190000</td>\n",
       "      <td>48.162500</td>\n",
       "    </tr>\n",
       "    <tr>\n",
       "      <th>50%</th>\n",
       "      <td>83.025000</td>\n",
       "      <td>57.120000</td>\n",
       "    </tr>\n",
       "    <tr>\n",
       "      <th>75%</th>\n",
       "      <td>88.530000</td>\n",
       "      <td>70.725000</td>\n",
       "    </tr>\n",
       "    <tr>\n",
       "      <th>max</th>\n",
       "      <td>104.380000</td>\n",
       "      <td>115.190000</td>\n",
       "    </tr>\n",
       "  </tbody>\n",
       "</table>\n",
       "</div>"
      ],
      "text/plain": [
       "       exxon_price    oil_price\n",
       "count  1248.000000  1248.000000\n",
       "mean     84.802796    61.935000\n",
       "std       7.424687    19.288424\n",
       "min      68.120000    26.010000\n",
       "25%      80.190000    48.162500\n",
       "50%      83.025000    57.120000\n",
       "75%      88.530000    70.725000\n",
       "max     104.380000   115.190000"
      ]
     },
     "execution_count": 350,
     "metadata": {},
     "output_type": "execute_result"
    }
   ],
   "source": [
    "# Statistical Summary of the Data.\n",
    "price_data.describe()"
   ]
  },
  {
   "cell_type": "code",
   "execution_count": 351,
   "id": "e6fe9121-b727-42c7-baec-491b9fa5c6a0",
   "metadata": {},
   "outputs": [
    {
     "data": {
      "text/plain": [
       "array([[<Axes: title={'center': 'exxon_price'}>,\n",
       "        <Axes: title={'center': 'oil_price'}>]], dtype=object)"
      ]
     },
     "execution_count": 351,
     "metadata": {},
     "output_type": "execute_result"
    },
    {
     "data": {
      "image/png": "[encoded data removed]",
      "text/plain": [
       "<Figure size 640x480 with 2 Axes>"
      ]
     },
     "metadata": {},
     "output_type": "display_data"
    }
   ],
   "source": [
    "# What is the distribution of the dataset? \n",
    "price_data.hist(grid= False, color = 'green')"
   ]
  },
  {
   "cell_type": "code",
   "execution_count": 353,
   "id": "e44be135-b123-4fe4-8d17-04cb488e2fed",
   "metadata": {},
   "outputs": [],
   "source": [
    "## The data looks slightly skewed to the left. "
   ]
  },
  {
   "cell_type": "code",
   "execution_count": 354,
   "id": "c81cc03d-08e3-4075-a1af-f274ed3b534b",
   "metadata": {},
   "outputs": [],
   "source": [
    "# What is the kurtosis/ sharpness of the peaks?\n",
    "exxon_kurtosis = stats.kurtosis(price_data['exxon_price'], fisher=True)\n",
    "oil_kurtosis = stats.kurtosis(price_data['oil_price'], fisher=True)\n",
    "\n",
    "# Calculate the skewness.\n",
    "exxon_skew = skew(price_data['exxon_price'])\n",
    "oil_skew = skew(price_data['oil_price'])\n"
   ]
  },
  {
   "cell_type": "code",
   "execution_count": 358,
   "id": "6165c2f3-f91f-46e7-bed0-78a14211baca",
   "metadata": {},
   "outputs": [
    {
     "name": "stdout",
     "output_type": "stream",
     "text": [
      "Exxon Kurtosis: 0.088\n",
      "Oil Kurtosis: 0.53\n"
     ]
    }
   ],
   "source": [
    "print('Exxon Kurtosis: {:.2}'.format(exxon_kurtosis))\n",
    "print('Oil Kurtosis: {:.2}'.format(oil_kurtosis))"
   ]
  },
  {
   "cell_type": "markdown",
   "id": "71a72eca-a3b4-46d4-8761-9acb8e89cd30",
   "metadata": {},
   "source": [
    "#### Kurosis Metrics\n",
    "* kurtosis = 3 (excess = 0) is mesokurtic and represents the normal distribution\n",
    "* kurtosis <3 (excess <0) is platykurtic and has the broad peaks with shorter tails.\n",
    "* kurtosis >3 (excess >0) is leptokurtic and the peak is sharp and tails are longer."
   ]
  },
  {
   "cell_type": "code",
   "execution_count": 361,
   "id": "6b7dece4-ea68-4402-8a0c-f3cc26fd60ad",
   "metadata": {},
   "outputs": [],
   "source": [
    "## results fall within the mesokurtic- exxon kurtosis and slightly platykurtic- oil."
   ]
  },
  {
   "cell_type": "code",
   "execution_count": 363,
   "id": "2ca017af-76ac-4812-bc4e-69ae3df92415",
   "metadata": {},
   "outputs": [
    {
     "name": "stdout",
     "output_type": "stream",
     "text": [
      "Exxon Skew: 0.66\n",
      "Oil Skew: 1.0\n"
     ]
    }
   ],
   "source": [
    "print('Exxon Skew: {:.2}'.format(exxon_skew))\n",
    "print('Oil Skew: {:.2}'.format(oil_skew))"
   ]
  },
  {
   "cell_type": "markdown",
   "id": "642afd19-57db-435d-9bb8-2223eba8487b",
   "metadata": {},
   "source": [
    "#### Skewness Metrics\n",
    "* skewness <-1 or > +1, it has a highly skewed distribution.\n",
    "* skewness b/w -1 & -1/2 or b/w +1/2 & +1, it is moderately skewed.\n",
    "* skewness b?w -1/2 & +1/2, it is approx. symetric."
   ]
  },
  {
   "cell_type": "code",
   "execution_count": 366,
   "id": "2694c4c0-7b55-4b4f-bd67-b9eb455065c3",
   "metadata": {},
   "outputs": [],
   "source": [
    "## The results show that the exxon skew is moderately skewed but the oil price is highly skewed."
   ]
  },
  {
   "cell_type": "code",
   "execution_count": 367,
   "id": "3d0d15c0-4c03-4e46-9c09-0b2a6ce79aea",
   "metadata": {},
   "outputs": [
    {
     "data": {
      "text/plain": [
       "'Exxon: '"
      ]
     },
     "metadata": {},
     "output_type": "display_data"
    },
    {
     "data": {
      "text/plain": [
       "KurtosistestResult(statistic=0.7185341775413723, pvalue=0.4724279822369689)"
      ]
     },
     "metadata": {},
     "output_type": "display_data"
    },
    {
     "data": {
      "text/plain": [
       "'Oil: '"
      ]
     },
     "metadata": {},
     "output_type": "display_data"
    },
    {
     "data": {
      "text/plain": [
       "KurtosistestResult(statistic=3.193868719980946, pvalue=0.0014037993965471192)"
      ]
     },
     "metadata": {},
     "output_type": "display_data"
    }
   ],
   "source": [
    "### Perform kurtosis tests. \n",
    "\n",
    "display('Exxon: ')\n",
    "display(stats.kurtosistest(price_data['exxon_price']))\n",
    "display('Oil: ')\n",
    "display(stats.kurtosistest(price_data['oil_price']))"
   ]
  },
  {
   "cell_type": "markdown",
   "id": "8ad24e43-cc2f-4d62-bb90-d74471925e7f",
   "metadata": {},
   "source": [
    "#### What does it mean?\n",
    "##### The p-value for Exxon was at 0.47 which is greater than the set p-value of p= 0.05. Therefore, the null hypothesis is not rejected. The p=value for oil price is 0.001 < 0.05, therefore reject the null hypothesis and accept the alternative hypothesis. \n",
    "##### H0 = kurtosis of the population is of the normal distribution but the H1 = kurtosis isn't of normal distribution. \n"
   ]
  },
  {
   "cell_type": "code",
   "execution_count": 371,
   "id": "13f45728-fafe-4e8b-9bc5-9dad67d381fa",
   "metadata": {},
   "outputs": [
    {
     "data": {
      "text/plain": [
       "'Exxon: '"
      ]
     },
     "metadata": {},
     "output_type": "display_data"
    },
    {
     "data": {
      "text/plain": [
       "SkewtestResult(statistic=8.770169133017768, pvalue=1.783981085247459e-18)"
      ]
     },
     "metadata": {},
     "output_type": "display_data"
    },
    {
     "data": {
      "text/plain": [
       "'Oil: '"
      ]
     },
     "metadata": {},
     "output_type": "display_data"
    },
    {
     "data": {
      "text/plain": [
       "SkewtestResult(statistic=12.471137868018896, pvalue=1.0728306198159925e-35)"
      ]
     },
     "metadata": {},
     "output_type": "display_data"
    }
   ],
   "source": [
    "### Perform skew tests\n",
    "\n",
    "display('Exxon: ')\n",
    "display(stats.skewtest(price_data['exxon_price']))\n",
    "\n",
    "display('Oil: ')\n",
    "display(stats.skewtest(price_data['oil_price']))\n"
   ]
  },
  {
   "cell_type": "markdown",
   "id": "732f853c-08ed-472a-84eb-883361241c05",
   "metadata": {},
   "source": [
    "#### What does it mean?\n",
    "##### The p-value for Exxon was at 1.78 which is greater than the set p-value of p= 0.05. Therefore, the null hypothesis is not rejected. The p=value for oil price is 1.07>0.05, therefore the null hypothesis is also not rejected.\n",
    "\n",
    "##### H0 = the skewness of the population is of the normal distribution but the H1 = skewness isn't of normal distribution. \n"
   ]
  },
  {
   "cell_type": "markdown",
   "id": "2e83abdd-9034-4008-873c-2263840fc234",
   "metadata": {},
   "source": [
    "### Building the Model- Machine Learning"
   ]
  },
  {
   "cell_type": "code",
   "execution_count": 390,
   "id": "760edb1c-c72c-42f8-bec4-57f7731b326b",
   "metadata": {},
   "outputs": [],
   "source": [
    "## Defining the variables.\n",
    "\n",
    "Y = price_data.drop(\"oil_price\", axis =1)\n",
    "X = price_data[[\"oil_price\"]]"
   ]
  },
  {
   "cell_type": "code",
   "execution_count": 392,
   "id": "25f994bd-6acf-4e76-a573-9f46c72ebd93",
   "metadata": {},
   "outputs": [],
   "source": [
    "## Split X and Y training sets @ 30% testing and 70% training.\n",
    "\n",
    "X_train, X_test, y_train, y_test = train_test_split(X,Y, test_size=0.30, random_state=1)"
   ]
  },
  {
   "cell_type": "code",
   "execution_count": 394,
   "id": "8980b441-1941-40a2-a17a-bb7ad9e82a4d",
   "metadata": {},
   "outputs": [
    {
     "data": {
      "text/html": [
       "<style>#sk-container-id-6 {color: black;}#sk-container-id-6 pre{padding: 0;}#sk-container-id-6 div.sk-toggleable {background-color: white;}#sk-container-id-6 label.sk-toggleable__label {cursor: pointer;display: block;width: 100%;margin-bottom: 0;padding: 0.3em;box-sizing: border-box;text-align: center;}#sk-container-id-6 label.sk-toggleable__label-arrow:before {content: \"▸\";float: left;margin-right: 0.25em;color: #696969;}#sk-container-id-6 label.sk-toggleable__label-arrow:hover:before {color: black;}#sk-container-id-6 div.sk-estimator:hover label.sk-toggleable__label-arrow:before {color: black;}#sk-container-id-6 div.sk-toggleable__content {max-height: 0;max-width: 0;overflow: hidden;text-align: left;background-color: #f0f8ff;}#sk-container-id-6 div.sk-toggleable__content pre {margin: 0.2em;color: black;border-radius: 0.25em;background-color: #f0f8ff;}#sk-container-id-6 input.sk-toggleable__control:checked~div.sk-toggleable__content {max-height: 200px;max-width: 100%;overflow: auto;}#sk-container-id-6 input.sk-toggleable__control:checked~label.sk-toggleable__label-arrow:before {content: \"▾\";}#sk-container-id-6 div.sk-estimator input.sk-toggleable__control:checked~label.sk-toggleable__label {background-color: #d4ebff;}#sk-container-id-6 div.sk-label input.sk-toggleable__control:checked~label.sk-toggleable__label {background-color: #d4ebff;}#sk-container-id-6 input.sk-hidden--visually {border: 0;clip: rect(1px 1px 1px 1px);clip: rect(1px, 1px, 1px, 1px);height: 1px;margin: -1px;overflow: hidden;padding: 0;position: absolute;width: 1px;}#sk-container-id-6 div.sk-estimator {font-family: monospace;background-color: #f0f8ff;border: 1px dotted black;border-radius: 0.25em;box-sizing: border-box;margin-bottom: 0.5em;}#sk-container-id-6 div.sk-estimator:hover {background-color: #d4ebff;}#sk-container-id-6 div.sk-parallel-item::after {content: \"\";width: 100%;border-bottom: 1px solid gray;flex-grow: 1;}#sk-container-id-6 div.sk-label:hover label.sk-toggleable__label {background-color: #d4ebff;}#sk-container-id-6 div.sk-serial::before {content: \"\";position: absolute;border-left: 1px solid gray;box-sizing: border-box;top: 0;bottom: 0;left: 50%;z-index: 0;}#sk-container-id-6 div.sk-serial {display: flex;flex-direction: column;align-items: center;background-color: white;padding-right: 0.2em;padding-left: 0.2em;position: relative;}#sk-container-id-6 div.sk-item {position: relative;z-index: 1;}#sk-container-id-6 div.sk-parallel {display: flex;align-items: stretch;justify-content: center;background-color: white;position: relative;}#sk-container-id-6 div.sk-item::before, #sk-container-id-6 div.sk-parallel-item::before {content: \"\";position: absolute;border-left: 1px solid gray;box-sizing: border-box;top: 0;bottom: 0;left: 50%;z-index: -1;}#sk-container-id-6 div.sk-parallel-item {display: flex;flex-direction: column;z-index: 1;position: relative;background-color: white;}#sk-container-id-6 div.sk-parallel-item:first-child::after {align-self: flex-end;width: 50%;}#sk-container-id-6 div.sk-parallel-item:last-child::after {align-self: flex-start;width: 50%;}#sk-container-id-6 div.sk-parallel-item:only-child::after {width: 0;}#sk-container-id-6 div.sk-dashed-wrapped {border: 1px dashed gray;margin: 0 0.4em 0.5em 0.4em;box-sizing: border-box;padding-bottom: 0.4em;background-color: white;}#sk-container-id-6 div.sk-label label {font-family: monospace;font-weight: bold;display: inline-block;line-height: 1.2em;}#sk-container-id-6 div.sk-label-container {text-align: center;}#sk-container-id-6 div.sk-container {/* jupyter's `normalize.less` sets `[hidden] { display: none; }` but bootstrap.min.css set `[hidden] { display: none !important; }` so we also need the `!important` here to be able to override the default hidden behavior on the sphinx rendered scikit-learn.org. See: https://github.com/scikit-learn/scikit-learn/issues/21755 */display: inline-block !important;position: relative;}#sk-container-id-6 div.sk-text-repr-fallback {display: none;}</style><div id=\"sk-container-id-6\" class=\"sk-top-container\"><div class=\"sk-text-repr-fallback\"><pre>LinearRegression()</pre><b>In a Jupyter environment, please rerun this cell to show the HTML representation or trust the notebook. <br />On GitHub, the HTML representation is unable to render, please try loading this page with nbviewer.org.</b></div><div class=\"sk-container\" hidden><div class=\"sk-item\"><div class=\"sk-estimator sk-toggleable\"><input class=\"sk-toggleable__control sk-hidden--visually\" id=\"sk-estimator-id-6\" type=\"checkbox\" checked><label for=\"sk-estimator-id-6\" class=\"sk-toggleable__label sk-toggleable__label-arrow\">LinearRegression</label><div class=\"sk-toggleable__content\"><pre>LinearRegression()</pre></div></div></div></div></div>"
      ],
      "text/plain": [
       "LinearRegression()"
      ]
     },
     "execution_count": 394,
     "metadata": {},
     "output_type": "execute_result"
    }
   ],
   "source": [
    "## Create the linear regression model.\n",
    "regression_model = LinearRegression()\n",
    "\n",
    "## Fit the model.\n",
    "regression_model.fit(X_train, y_train)"
   ]
  },
  {
   "cell_type": "code",
   "execution_count": 396,
   "id": "b684aa52-ae5c-4ea2-9b3f-8ac1f52d13bd",
   "metadata": {},
   "outputs": [
    {
     "name": "stdout",
     "output_type": "stream",
     "text": [
      "The intercept of our model is: 70.0\n"
     ]
    }
   ],
   "source": [
    "## Find the y-intercept of the model.\n",
    "\n",
    "intercept = regression_model.intercept_[0]\n",
    "print(\"The intercept of our model is: {:.3}\".format(intercept))"
   ]
  },
  {
   "cell_type": "code",
   "execution_count": 398,
   "id": "ffaa21e8-fb3e-4024-af9c-8e866a79dd6c",
   "metadata": {},
   "outputs": [
    {
     "name": "stdout",
     "output_type": "stream",
     "text": [
      "The coefficent of our model is: 0.24\n"
     ]
    }
   ],
   "source": [
    "## Find the coefficent (slope) of the model.\n",
    "\n",
    "coefficent = regression_model.coef_[0][0]\n",
    "print(\"The coefficent of our model is: {:.2}\".format(coefficent))"
   ]
  },
  {
   "cell_type": "code",
   "execution_count": 400,
   "id": "ee389658-e033-41a2-b641-7b7292c4ff36",
   "metadata": {},
   "outputs": [
    {
     "name": "stdout",
     "output_type": "stream",
     "text": [
      "The predicted value 85.95\n"
     ]
    },
    {
     "name": "stderr",
     "output_type": "stream",
     "text": [
      "/opt/conda/envs/anaconda-2023.09/lib/python3.11/site-packages/sklearn/base.py:464: UserWarning: X does not have valid feature names, but LinearRegression was fitted with feature names\n",
      "  warnings.warn(\n"
     ]
    }
   ],
   "source": [
    "## Test a single prediction. \n",
    "\n",
    "prediction = regression_model.predict([[67.33]])\n",
    "predicted_value = prediction[0][0]\n",
    "print(\"The predicted value {:.4}\".format(predicted_value))"
   ]
  },
  {
   "cell_type": "code",
   "execution_count": 402,
   "id": "3d67f882-62bf-40c0-b03e-320f62858b4a",
   "metadata": {},
   "outputs": [
    {
     "data": {
      "text/plain": [
       "array([[82.23530255],\n",
       "       [82.87451027],\n",
       "       [81.4824579 ],\n",
       "       [78.925627  ],\n",
       "       [84.013247  ]])"
      ]
     },
     "execution_count": 402,
     "metadata": {},
     "output_type": "execute_result"
    }
   ],
   "source": [
    "## Make multiple predictions at once.\n",
    "\n",
    "y_predict = regression_model.predict(X_test)\n",
    "\n",
    "# Show the first 5 predictions. \n",
    "\n",
    "y_predict[:5]"
   ]
  },
  {
   "cell_type": "markdown",
   "id": "3a72ad57-b162-4318-8508-575c1bfc4f5d",
   "metadata": {},
   "source": [
    "### Evaluate the Model"
   ]
  },
  {
   "cell_type": "code",
   "execution_count": 405,
   "id": "bd8d1adc-3d4a-4873-856d-364e31403b7d",
   "metadata": {},
   "outputs": [],
   "source": [
    "# define our input.\n",
    "X2= sm.add_constant(X)\n",
    "\n",
    "# create the ordinary least squares model.\n",
    "model = sm.OLS(Y, X2)"
   ]
  },
  {
   "cell_type": "code",
   "execution_count": 407,
   "id": "89f5ad94-bcb7-413d-8ab8-248e4e3a0a73",
   "metadata": {},
   "outputs": [],
   "source": [
    "# fit the data\n",
    "est = model.fit()"
   ]
  },
  {
   "cell_type": "code",
   "execution_count": 409,
   "id": "a5c84b1c-274e-41ea-ae5a-bebbf006b96d",
   "metadata": {},
   "outputs": [
    {
     "data": {
      "text/html": [
       "<div>\n",
       "<style scoped>\n",
       "    .dataframe tbody tr th:only-of-type {\n",
       "        vertical-align: middle;\n",
       "    }\n",
       "\n",
       "    .dataframe tbody tr th {\n",
       "        vertical-align: top;\n",
       "    }\n",
       "\n",
       "    .dataframe thead th {\n",
       "        text-align: right;\n",
       "    }\n",
       "</style>\n",
       "<table border=\"1\" class=\"dataframe\">\n",
       "  <thead>\n",
       "    <tr style=\"text-align: right;\">\n",
       "      <th></th>\n",
       "      <th>0</th>\n",
       "      <th>1</th>\n",
       "    </tr>\n",
       "  </thead>\n",
       "  <tbody>\n",
       "    <tr>\n",
       "      <th>const</th>\n",
       "      <td>69.358126</td>\n",
       "      <td>71.57579</td>\n",
       "    </tr>\n",
       "    <tr>\n",
       "      <th>oil_price</th>\n",
       "      <td>0.214372</td>\n",
       "      <td>0.24856</td>\n",
       "    </tr>\n",
       "  </tbody>\n",
       "</table>\n",
       "</div>"
      ],
      "text/plain": [
       "                   0         1\n",
       "const      69.358126  71.57579\n",
       "oil_price   0.214372   0.24856"
      ]
     },
     "execution_count": 409,
     "metadata": {},
     "output_type": "execute_result"
    }
   ],
   "source": [
    "# Create the confidence interval with a 95% CI\n",
    "\n",
    "est.conf_int()"
   ]
  },
  {
   "cell_type": "code",
   "execution_count": 411,
   "id": "c7938fa6-e760-4bea-bc76-4b73688b860b",
   "metadata": {},
   "outputs": [
    {
     "data": {
      "text/plain": [
       "const         0.000000e+00\n",
       "oil_price    1.423518e-123\n",
       "dtype: float64"
      ]
     },
     "execution_count": 411,
     "metadata": {},
     "output_type": "execute_result"
    }
   ],
   "source": [
    "# Hypothesis Testing via. p-value.\n",
    "est.pvalues"
   ]
  },
  {
   "cell_type": "markdown",
   "id": "70e8f856-778b-4cff-b071-4118cdbc38f5",
   "metadata": {},
   "source": [
    "### Model Fit"
   ]
  },
  {
   "cell_type": "code",
   "execution_count": 413,
   "id": "76c9bc0c-47fe-4a49-8710-434237abd650",
   "metadata": {},
   "outputs": [
    {
     "name": "stdout",
     "output_type": "stream",
     "text": [
      "The MSE is: 38.4\n"
     ]
    }
   ],
   "source": [
    "# Calculation of the mean squared error.\n",
    "model_mse = mean_squared_error(y_test, y_predict)\n",
    "print(\"The MSE is: {:.3}\".format(model_mse))"
   ]
  },
  {
   "cell_type": "code",
   "execution_count": 415,
   "id": "8f70c429-6db9-4a5c-adc7-6f113233970c",
   "metadata": {},
   "outputs": [
    {
     "name": "stdout",
     "output_type": "stream",
     "text": [
      "The MAE is: 5.03\n"
     ]
    }
   ],
   "source": [
    "# Calculation of the mean absolute error.\n",
    "model_mae = mean_absolute_error(y_test, y_predict)\n",
    "print(\"The MAE is: {:.3}\".format(model_mae))"
   ]
  },
  {
   "cell_type": "code",
   "execution_count": 417,
   "id": "95dfc9b2-aa8f-4c24-aaf3-25183bc13bb6",
   "metadata": {},
   "outputs": [
    {
     "name": "stdout",
     "output_type": "stream",
     "text": [
      "The RMSE is: 6.2\n"
     ]
    }
   ],
   "source": [
    "# Calculate the root mean squared error\n",
    "model_rmse = math.sqrt(model_mse)\n",
    "print(\"The RMSE is: {:.3}\".format(model_rmse))"
   ]
  },
  {
   "cell_type": "code",
   "execution_count": 419,
   "id": "8f88a7d0-9cf6-4a65-a0bd-b55bc8d4008f",
   "metadata": {},
   "outputs": [
    {
     "name": "stdout",
     "output_type": "stream",
     "text": [
      "R2: 0.31\n"
     ]
    }
   ],
   "source": [
    "## Calculate the R-Squared.\n",
    "model_r2 = r2_score(y_test, y_predict)\n",
    "print(\"R2: {:.2}\".format(model_r2))"
   ]
  },
  {
   "cell_type": "code",
   "execution_count": 421,
   "id": "643a3eb4-ab7a-491a-9b77-4c247f0aa097",
   "metadata": {},
   "outputs": [
    {
     "name": "stdout",
     "output_type": "stream",
     "text": [
      "                            OLS Regression Results                            \n",
      "==============================================================================\n",
      "Dep. Variable:            exxon_price   R-squared:                       0.362\n",
      "Model:                            OLS   Adj. R-squared:                  0.361\n",
      "Method:                 Least Squares   F-statistic:                     705.7\n",
      "Date:                Fri, 18 Oct 2024   Prob (F-statistic):          1.42e-123\n",
      "Time:                        21:00:35   Log-Likelihood:                -3992.3\n",
      "No. Observations:                1248   AIC:                             7989.\n",
      "Df Residuals:                    1246   BIC:                             7999.\n",
      "Df Model:                           1                                         \n",
      "Covariance Type:            nonrobust                                         \n",
      "==============================================================================\n",
      "                 coef    std err          t      P>|t|      [0.025      0.975]\n",
      "------------------------------------------------------------------------------\n",
      "const         70.4670      0.565    124.678      0.000      69.358      71.576\n",
      "oil_price      0.2315      0.009     26.565      0.000       0.214       0.249\n",
      "==============================================================================\n",
      "Omnibus:                       61.541   Durbin-Watson:                   0.024\n",
      "Prob(Omnibus):                  0.000   Jarque-Bera (JB):               31.074\n",
      "Skew:                          -0.198   Prob(JB):                     1.79e-07\n",
      "Kurtosis:                       2.337   Cond. No.                         218.\n",
      "==============================================================================\n",
      "\n",
      "Notes:\n",
      "[1] Standard Errors assume that the covariance matrix of the errors is correctly specified.\n"
     ]
    }
   ],
   "source": [
    "## Summary of the Model Output\n",
    "print(est.summary())"
   ]
  },
  {
   "cell_type": "code",
   "execution_count": 423,
   "id": "eecadb46-97a9-4200-8ff3-834b39b8bd7f",
   "metadata": {},
   "outputs": [
    {
     "data": {
      "image/png": "[encoded data removed]",
      "text/plain": [
       "<Figure size 640x480 with 1 Axes>"
      ]
     },
     "metadata": {},
     "output_type": "display_data"
    }
   ],
   "source": [
    "## Plot the residuals and create the histogram.\n",
    "(y_test - y_predict).hist(grid = False, color = 'royalblue')\n",
    "plt.title(\"Model Residuals\")\n",
    "plt.show()"
   ]
  },
  {
   "cell_type": "markdown",
   "id": "ef69f6bb-c021-4341-a23f-931a9572a9b0",
   "metadata": {},
   "source": [
    "### Plotting the Data"
   ]
  },
  {
   "cell_type": "code",
   "execution_count": 426,
   "id": "64ab2c14-2661-458e-ba47-9bf462651064",
   "metadata": {},
   "outputs": [
    {
     "data": {
      "image/png": "[encoded data removed]",
      "text/plain": [
       "<Figure size 640x480 with 1 Axes>"
      ]
     },
     "metadata": {},
     "output_type": "display_data"
    }
   ],
   "source": [
    "# Plot outputs\n",
    "\n",
    "plt.scatter(X_test, y_test, color=\"gainsboro\", label= \"Price\")\n",
    "plt.plot(X_test, y_predict, color=\"green\", linewidth = 3, linestyle = \"-\", label = \"Regression Line\")\n",
    "\n",
    "plt.title(\"Linear Regression Exxon Mobile vs. Oil\")\n",
    "plt.xlabel(\"Oil\")\n",
    "plt.ylabel(\"Exxon Mobile\")\n",
    "plt.legend()\n",
    "plt.show()\n"
   ]
  },
  {
   "cell_type": "code",
   "execution_count": 448,
   "id": "c4ab2369-ccf5-4454-840b-f7cbbd0a6ae3",
   "metadata": {},
   "outputs": [
    {
     "name": "stdout",
     "output_type": "stream",
     "text": [
      "The oil coefficents: \u001b[1m0.2367\u001b[0m\n"
     ]
    }
   ],
   "source": [
    "# The coeffcients.\n",
    "print(\"The oil coefficents: \" + \"\\033[1m\" + \"{:.4}\" \"\\033[0m\".format(regression_model.coef_[0][0]))\n"
   ]
  },
  {
   "cell_type": "code",
   "execution_count": 450,
   "id": "40748fd3-d7e0-4a23-b686-ecb1e455ad04",
   "metadata": {},
   "outputs": [
    {
     "name": "stdout",
     "output_type": "stream",
     "text": [
      "Mean squared error: \u001b[1m38.44\u001b[0m\n"
     ]
    }
   ],
   "source": [
    "# The mean squared error.\n",
    "print(\"Mean squared error: \" + \"\\033[1m\" + \"{:.4}\" \"\\033[0m\".format(model_mse))\n"
   ]
  },
  {
   "cell_type": "code",
   "execution_count": 451,
   "id": "9bdaa14a-5e84-4f0e-adc3-bf04d94618d1",
   "metadata": {},
   "outputs": [
    {
     "name": "stdout",
     "output_type": "stream",
     "text": [
      "Root mean squared error: \u001b[1m6.2\u001b[0m\n"
     ]
    }
   ],
   "source": [
    "# The root mean squared error.\n",
    "print(\"Root mean squared error: \" + \"\\033[1m\" + \"{:.4}\" \"\\033[0m\".format(math.sqrt(model_mse)))"
   ]
  },
  {
   "cell_type": "code",
   "execution_count": 453,
   "id": "d0a3b28a-d4fe-4bff-9560-ee99fa649683",
   "metadata": {},
   "outputs": [
    {
     "name": "stdout",
     "output_type": "stream",
     "text": [
      "R^2 score: \u001b[1m0.31\u001b[0m\n"
     ]
    }
   ],
   "source": [
    "# Explain the variance score: 1 is the perfect prediction.\n",
    "print(\"R^2 score: \" + \"\\033[1m\" + \"{:.2}\" \"\\033[0m\".format(r2_score(y_test,y_predict)))"
   ]
  },
  {
   "cell_type": "markdown",
   "id": "15858009-5ade-45e1-a740-36a963129555",
   "metadata": {},
   "source": [
    "#### Save the Model"
   ]
  },
  {
   "cell_type": "code",
   "execution_count": 457,
   "id": "c11fb992-6424-4272-889c-33128b70a8e7",
   "metadata": {},
   "outputs": [],
   "source": [
    "import pickle"
   ]
  },
  {
   "cell_type": "code",
   "execution_count": 458,
   "id": "5ebfc4df-5a9d-433c-a686-75f39fc1a6b1",
   "metadata": {},
   "outputs": [],
   "source": [
    "# save the model via pickle.\n",
    "\n",
    "with open(\"my_linear_regression.sav\",\"wb\") as f:\n",
    "    pickle.dump(regression_model,f)"
   ]
  },
  {
   "cell_type": "code",
   "execution_count": 460,
   "id": "57bcc4f9-42d9-410e-ba57-966d834a0c8f",
   "metadata": {},
   "outputs": [],
   "source": [
    "# load it back in.\n",
    "\n",
    "with open(\"my_linear_regression.sav\",\"rb\") as pickle_file:\n",
    "    regression_model_2 = pickle.load(pickle_file)"
   ]
  },
  {
   "cell_type": "code",
   "execution_count": 462,
   "id": "fb0b4518-bfb2-4451-a704-eaca6c0c3051",
   "metadata": {},
   "outputs": [
    {
     "name": "stderr",
     "output_type": "stream",
     "text": [
      "/opt/conda/envs/anaconda-2023.09/lib/python3.11/site-packages/sklearn/base.py:464: UserWarning: X does not have valid feature names, but LinearRegression was fitted with feature names\n",
      "  warnings.warn(\n"
     ]
    },
    {
     "data": {
      "text/plain": [
       "array([[85.94980966]])"
      ]
     },
     "execution_count": 462,
     "metadata": {},
     "output_type": "execute_result"
    }
   ],
   "source": [
    "# make a new prediction\n",
    "regression_model_2.predict([[67.33]])"
   ]
  }
 ],
 "metadata": {
  "kernelspec": {
   "display_name": "anaconda-2023.09",
   "language": "python",
   "name": "conda-env-anaconda-2023.09-py"
  },
  "language_info": {
   "codemirror_mode": {
    "name": "ipython",
    "version": 3
   },
   "file_extension": ".py",
   "mimetype": "text/x-python",
   "name": "python",
   "nbconvert_exporter": "python",
   "pygments_lexer": "ipython3",
   "version": "3.11.5"
  }
 },
 "nbformat": 4,
 "nbformat_minor": 5
}
